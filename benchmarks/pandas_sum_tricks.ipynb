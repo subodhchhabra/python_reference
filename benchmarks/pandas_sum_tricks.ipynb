{
 "metadata": {
  "name": "",
  "signature": "sha256:3de4720b58999a1f88844021c43acd1d6d6db6da3315538f9faac86a69424446"
 },
 "nbformat": 3,
 "nbformat_minor": 0,
 "worksheets": [
  {
   "cells": [
    {
     "cell_type": "code",
     "collapsed": false,
     "input": [
      "%load_ext watermark \n",
      "%watermark -d -v -a 'Sebastian Raschka' -p numpy,pandas"
     ],
     "language": "python",
     "metadata": {},
     "outputs": [
      {
       "output_type": "stream",
       "stream": "stdout",
       "text": [
        "The watermark extension is already loaded. To reload it, use:\n",
        "  %reload_ext watermark\n",
        "Sebastian Raschka 24/12/2014 \n",
        "\n",
        "CPython 3.4.2\n",
        "IPython 2.3.1\n",
        "\n",
        "numpy 1.9.1\n",
        "pandas 0.15.2\n"
       ]
      }
     ],
     "prompt_number": 18
    },
    {
     "cell_type": "markdown",
     "metadata": {},
     "source": [
      "<br>\n",
      "<br>"
     ]
    },
    {
     "cell_type": "heading",
     "level": 1,
     "metadata": {},
     "source": [
      "4 Simple Tricks To Speed up the Sum Calculation in Pandas"
     ]
    },
    {
     "cell_type": "markdown",
     "metadata": {},
     "source": [
      "I wanted to improve the performance of some passages in my code a little bit and found that some simple tweaks can speed up the  `pandas` section significantly. I thought that it might be one useful thing to share -- and no Cython or just-in-time compilation is required! "
     ]
    },
    {
     "cell_type": "markdown",
     "metadata": {},
     "source": [
      "<br>\n",
      "<br>"
     ]
    },
    {
     "cell_type": "markdown",
     "metadata": {},
     "source": [
      "In my case, I had a large dataframe where I wanted to calculate the sum of specific columns for different combinations of rows (approx. 100,000,000 of them, that's why I was looking for ways to speed it up). Anyway, below is a simple toy DataFrame to explore the `.sum()` method a little bit."
     ]
    },
    {
     "cell_type": "code",
     "collapsed": false,
     "input": [
      "import pandas as pd\n",
      "import numpy as np\n",
      "\n",
      "df = pd.DataFrame()\n",
      "\n",
      "for col in ('a', 'b', 'c', 'd'):\n",
      "    df[col] = pd.Series(range(1000), index=range(1000))"
     ],
     "language": "python",
     "metadata": {},
     "outputs": [],
     "prompt_number": 2
    },
    {
     "cell_type": "code",
     "collapsed": false,
     "input": [
      "df.tail()"
     ],
     "language": "python",
     "metadata": {},
     "outputs": [
      {
       "html": [
        "<div style=\"max-height:1000px;max-width:1500px;overflow:auto;\">\n",
        "<table border=\"1\" class=\"dataframe\">\n",
        "  <thead>\n",
        "    <tr style=\"text-align: right;\">\n",
        "      <th></th>\n",
        "      <th>a</th>\n",
        "      <th>b</th>\n",
        "      <th>c</th>\n",
        "      <th>d</th>\n",
        "    </tr>\n",
        "  </thead>\n",
        "  <tbody>\n",
        "    <tr>\n",
        "      <th>995</th>\n",
        "      <td> 995</td>\n",
        "      <td> 995</td>\n",
        "      <td> 995</td>\n",
        "      <td> 995</td>\n",
        "    </tr>\n",
        "    <tr>\n",
        "      <th>996</th>\n",
        "      <td> 996</td>\n",
        "      <td> 996</td>\n",
        "      <td> 996</td>\n",
        "      <td> 996</td>\n",
        "    </tr>\n",
        "    <tr>\n",
        "      <th>997</th>\n",
        "      <td> 997</td>\n",
        "      <td> 997</td>\n",
        "      <td> 997</td>\n",
        "      <td> 997</td>\n",
        "    </tr>\n",
        "    <tr>\n",
        "      <th>998</th>\n",
        "      <td> 998</td>\n",
        "      <td> 998</td>\n",
        "      <td> 998</td>\n",
        "      <td> 998</td>\n",
        "    </tr>\n",
        "    <tr>\n",
        "      <th>999</th>\n",
        "      <td> 999</td>\n",
        "      <td> 999</td>\n",
        "      <td> 999</td>\n",
        "      <td> 999</td>\n",
        "    </tr>\n",
        "  </tbody>\n",
        "</table>\n",
        "</div>"
       ],
       "metadata": {},
       "output_type": "pyout",
       "prompt_number": 3,
       "text": [
        "       a    b    c    d\n",
        "995  995  995  995  995\n",
        "996  996  996  996  996\n",
        "997  997  997  997  997\n",
        "998  998  998  998  998\n",
        "999  999  999  999  999"
       ]
      }
     ],
     "prompt_number": 3
    },
    {
     "cell_type": "markdown",
     "metadata": {},
     "source": [
      "<br>"
     ]
    },
    {
     "cell_type": "markdown",
     "metadata": {},
     "source": [
      "Let's assume we are interested in calculating the sum of column `a`, `c`, and `d`, which would look like this:"
     ]
    },
    {
     "cell_type": "code",
     "collapsed": false,
     "input": [
      "df.loc[:, ['a', 'c', 'd']].sum(axis=0)"
     ],
     "language": "python",
     "metadata": {},
     "outputs": [
      {
       "metadata": {},
       "output_type": "pyout",
       "prompt_number": 4,
       "text": [
        "a    499500\n",
        "c    499500\n",
        "d    499500\n",
        "dtype: int64"
       ]
      }
     ],
     "prompt_number": 4
    },
    {
     "cell_type": "markdown",
     "metadata": {},
     "source": [
      "Now, the `.loc` method is probably the most \"costliest\" one for this kind of operation. Since we are only intersted in the resulting numbers (i.e., the column sums), there is no need to make a copy of the array. Anyway, let's use the method above as a reference for comparison:"
     ]
    },
    {
     "cell_type": "code",
     "collapsed": false,
     "input": [
      "# 1\n",
      "%timeit -n 1000 -r 5 df.loc[:, ['a', 'c', 'd']].sum(axis=0)"
     ],
     "language": "python",
     "metadata": {},
     "outputs": [
      {
       "output_type": "stream",
       "stream": "stdout",
       "text": [
        "1000 loops, best of 5: 1.37 ms per loop\n"
       ]
      }
     ],
     "prompt_number": 5
    },
    {
     "cell_type": "markdown",
     "metadata": {},
     "source": [
      "<br>"
     ]
    },
    {
     "cell_type": "markdown",
     "metadata": {},
     "source": [
      "Although this is a rather small DataFrame (1000 x 4), let's see by how much we can speed it up using a different slicing method:"
     ]
    },
    {
     "cell_type": "code",
     "collapsed": false,
     "input": [
      "# 2\n",
      "%timeit -n 1000 -r 5 df[['a', 'c', 'd']].sum(axis=0)"
     ],
     "language": "python",
     "metadata": {},
     "outputs": [
      {
       "output_type": "stream",
       "stream": "stdout",
       "text": [
        "1000 loops, best of 5: 986 \u00b5s per loop\n"
       ]
      }
     ],
     "prompt_number": 6
    },
    {
     "cell_type": "markdown",
     "metadata": {},
     "source": [
      "<br>"
     ]
    },
    {
     "cell_type": "markdown",
     "metadata": {},
     "source": [
      "Next, let us use the Numpy representation of  the `NDFrame` via the `.values` attribue:"
     ]
    },
    {
     "cell_type": "code",
     "collapsed": false,
     "input": [
      "# 3\n",
      "%timeit -n 1000 -r 5 df[['a', 'c', 'd']].values.sum(axis=0)"
     ],
     "language": "python",
     "metadata": {},
     "outputs": [
      {
       "output_type": "stream",
       "stream": "stdout",
       "text": [
        "1000 loops, best of 5: 687 \u00b5s per loop\n"
       ]
      }
     ],
     "prompt_number": 7
    },
    {
     "cell_type": "markdown",
     "metadata": {},
     "source": [
      "<br>"
     ]
    },
    {
     "cell_type": "markdown",
     "metadata": {},
     "source": [
      "While the speed improvements in #2 and #3 were not really a surprise, the next \"trick\" surprised me a little bit. Here, we are calculating the sum of each column separately rather than slicing the array."
     ]
    },
    {
     "cell_type": "code",
     "collapsed": false,
     "input": [
      "[df[col].values.sum(axis=0) for col in ('a', 'c', 'd')]"
     ],
     "language": "python",
     "metadata": {},
     "outputs": [
      {
       "metadata": {},
       "output_type": "pyout",
       "prompt_number": 8,
       "text": [
        "[499500, 499500, 499500]"
       ]
      }
     ],
     "prompt_number": 8
    },
    {
     "cell_type": "code",
     "collapsed": false,
     "input": [
      "# 4\n",
      "%timeit -n 1000 -r 5 [df[col].values.sum(axis=0) for col in ('a', 'c', 'd')]"
     ],
     "language": "python",
     "metadata": {},
     "outputs": [
      {
       "output_type": "stream",
       "stream": "stdout",
       "text": [
        "1000 loops, best of 5: 64.4 \u00b5s per loop\n"
       ]
      }
     ],
     "prompt_number": 9
    },
    {
     "cell_type": "markdown",
     "metadata": {},
     "source": [
      "In this case, this is an almost 10x improvement!"
     ]
    },
    {
     "cell_type": "markdown",
     "metadata": {},
     "source": [
      "<br>"
     ]
    },
    {
     "cell_type": "markdown",
     "metadata": {},
     "source": [
      "One more thing: Let's try the Einstein summation convention [`einsum`](http://docs.scipy.org/doc/numpy/reference/generated/numpy.einsum.html)."
     ]
    },
    {
     "cell_type": "code",
     "collapsed": false,
     "input": [
      "from numpy import einsum\n",
      "[einsum('i->', df[col].values) for col in ('a', 'c', 'd')]"
     ],
     "language": "python",
     "metadata": {},
     "outputs": [
      {
       "metadata": {},
       "output_type": "pyout",
       "prompt_number": 10,
       "text": [
        "[499500, 499500, 499500]"
       ]
      }
     ],
     "prompt_number": 10
    },
    {
     "cell_type": "code",
     "collapsed": false,
     "input": [
      "# 5\n",
      "%timeit -n 1000 -r 5 [einsum('i->', df[col].values) for col in ('a', 'c', 'd')]"
     ],
     "language": "python",
     "metadata": {},
     "outputs": [
      {
       "output_type": "stream",
       "stream": "stdout",
       "text": [
        "1000 loops, best of 5: 55.7 \u00b5s per loop\n"
       ]
      }
     ],
     "prompt_number": 11
    },
    {
     "cell_type": "markdown",
     "metadata": {},
     "source": [
      "<br>"
     ]
    },
    {
     "cell_type": "heading",
     "level": 3,
     "metadata": {},
     "source": [
      "Conclusion:"
     ]
    },
    {
     "cell_type": "markdown",
     "metadata": {},
     "source": [
      "Using some simple tricks, the column sum calculation improved from 1370 to 57.7 \u00b5s per loop (approx. 25x faster!)"
     ]
    },
    {
     "cell_type": "markdown",
     "metadata": {},
     "source": [
      "<br>"
     ]
    },
    {
     "cell_type": "markdown",
     "metadata": {},
     "source": [
      "<br>"
     ]
    },
    {
     "cell_type": "heading",
     "level": 3,
     "metadata": {},
     "source": [
      "What about larger DataFrames?"
     ]
    },
    {
     "cell_type": "markdown",
     "metadata": {},
     "source": [
      "So, what does this trend look like for larger DataFrames?"
     ]
    },
    {
     "cell_type": "code",
     "collapsed": false,
     "input": [
      "import timeit\n",
      "import random\n",
      "from numpy import einsum\n",
      "import pandas as pd\n",
      "\n",
      "def run_loc_sum(df):\n",
      "    return df.loc[:, ['a', 'c', 'd']].sum(axis=0)\n",
      "\n",
      "def run_einsum(df):\n",
      "    return [einsum('i->', df[col].values) for col in ('a', 'c', 'd')]\n",
      "\n",
      "orders = [10**i for i in range(4, 8)]\n",
      "loc_res = []\n",
      "einsum_res = []\n",
      "\n",
      "for n in orders:\n",
      "\n",
      "    df = pd.DataFrame()\n",
      "    for col in ('a', 'b', 'c', 'd'):\n",
      "        df[col] = pd.Series(range(n), index=range(n))\n",
      "    \n",
      "    print('n=%s (%s of %s)' %(n, orders.index(n)+1, len(orders)))\n",
      "\n",
      "    loc_res.append(min(timeit.Timer('run_loc_sum(df)' , \n",
      "            'from __main__ import run_loc_sum, df').repeat(repeat=5, number=1)))\n",
      "\n",
      "    einsum_res.append(min(timeit.Timer('run_einsum(df)' , \n",
      "            'from __main__ import run_einsum, df').repeat(repeat=5, number=1)))\n",
      "\n",
      "print('finished')"
     ],
     "language": "python",
     "metadata": {},
     "outputs": [
      {
       "output_type": "stream",
       "stream": "stdout",
       "text": [
        "n=10000 (1 of 4)\n",
        "n=100000 (2 of 4)"
       ]
      },
      {
       "output_type": "stream",
       "stream": "stdout",
       "text": [
        "\n",
        "n=1000000 (3 of 4)"
       ]
      },
      {
       "output_type": "stream",
       "stream": "stdout",
       "text": [
        "\n",
        "n=10000000 (4 of 4)"
       ]
      },
      {
       "output_type": "stream",
       "stream": "stdout",
       "text": [
        "\n",
        "finished"
       ]
      },
      {
       "output_type": "stream",
       "stream": "stdout",
       "text": [
        "\n"
       ]
      }
     ],
     "prompt_number": 23
    },
    {
     "cell_type": "code",
     "collapsed": false,
     "input": [
      "%matplotlib inline"
     ],
     "language": "python",
     "metadata": {},
     "outputs": [],
     "prompt_number": 24
    },
    {
     "cell_type": "code",
     "collapsed": false,
     "input": [
      "from matplotlib import pyplot as plt\n",
      "\n",
      "def plot_1():\n",
      "    \n",
      "    fig = plt.figure(figsize=(12,6))\n",
      "    \n",
      "    plt.plot(orders, loc_res, \n",
      "             label=\"df.loc[:, ['a', 'c', 'd']].sum(axis=0)\", \n",
      "             lw=2, alpha=0.6)\n",
      "    plt.plot(orders,einsum_res, \n",
      "             label=\"[einsum('i->', df[col].values) for col in ('a', 'c', 'd')]\", \n",
      "             lw=2, alpha=0.6)\n",
      "\n",
      "    plt.title('Pandas Column Sums', fontsize=20)\n",
      "    plt.xlim([min(orders), max(orders)])\n",
      "    plt.grid()\n",
      "\n",
      "    #plt.xscale('log')\n",
      "    plt.ticklabel_format(style='plain', axis='x')\n",
      "    plt.legend(loc='upper left', fontsize=14)\n",
      "    plt.xlabel('Number of rows', fontsize=16)\n",
      "    plt.ylabel('time in seconds', fontsize=16)\n",
      "    \n",
      "    plt.tight_layout()\n",
      "    plt.show()\n",
      "    \n",
      "plot_1()"
     ],
     "language": "python",
     "metadata": {},
     "outputs": [
      {
       "metadata": {},
       "output_type": "display_data",
       "png": "[encoded data removed]",
       "text": [
        "<matplotlib.figure.Figure at 0x109989550>"
       ]
      }
     ],
     "prompt_number": 26
    },
    {
     "cell_type": "markdown",
     "metadata": {},
     "source": [
      "It looks like that the benefit of calculating the sums separately for each column becomes even larger the more rows the DataFrame has."
     ]
    },
    {
     "cell_type": "markdown",
     "metadata": {},
     "source": [
      "<br>"
     ]
    },
    {
     "cell_type": "markdown",
     "metadata": {},
     "source": [
      "<br>"
     ]
    },
    {
     "cell_type": "markdown",
     "metadata": {},
     "source": [
      "Another question to ask: How does this scale if we have a growing number of columns?"
     ]
    },
    {
     "cell_type": "code",
     "collapsed": false,
     "input": [
      "import timeit\n",
      "import random\n",
      "from numpy import einsum\n",
      "import pandas as pd\n",
      "\n",
      "def run_loc_sum(df, n):\n",
      "    return df.loc[:, 0:n-1].sum(axis=0)\n",
      "\n",
      "def run_einsum(df, n):\n",
      "    return [einsum('i->', df[col].values) for col in range(0,n-1)]\n",
      "\n",
      "orders = [10**i for i in range(2, 5)]\n",
      "loc_res = []\n",
      "einsum_res = []\n",
      "\n",
      "for n in orders:\n",
      "\n",
      "    df = pd.DataFrame()\n",
      "    for col in range(n):\n",
      "        df[col] = pd.Series(range(1000), index=range(1000))\n",
      "    \n",
      "    print('n=%s (%s of %s)' %(n, orders.index(n)+1, len(orders)))\n",
      "\n",
      "    loc_res.append(min(timeit.Timer('run_loc_sum(df, n)' , \n",
      "            'from __main__ import run_loc_sum, df, n').repeat(repeat=5, number=1)))\n",
      "\n",
      "    einsum_res.append(min(timeit.Timer('run_einsum(df, n)' , \n",
      "            'from __main__ import run_einsum, df, n').repeat(repeat=5, number=1)))\n",
      "\n",
      "print('finished')"
     ],
     "language": "python",
     "metadata": {},
     "outputs": [
      {
       "output_type": "stream",
       "stream": "stdout",
       "text": [
        "n=100 (1 of 3)\n",
        "n=1000 (2 of 3)"
       ]
      },
      {
       "output_type": "stream",
       "stream": "stdout",
       "text": [
        "\n",
        "n=10000 (3 of 3)"
       ]
      },
      {
       "output_type": "stream",
       "stream": "stdout",
       "text": [
        "\n",
        "finished"
       ]
      },
      {
       "output_type": "stream",
       "stream": "stdout",
       "text": [
        "\n"
       ]
      }
     ],
     "prompt_number": 35
    },
    {
     "cell_type": "code",
     "collapsed": false,
     "input": [
      "from matplotlib import pyplot as plt\n",
      "\n",
      "def plot_2():\n",
      "    \n",
      "    fig = plt.figure(figsize=(12,6))\n",
      "    \n",
      "    plt.plot(orders, loc_res, \n",
      "             label=\"df.loc[:, 0:n-1].sum(axis=0)\", \n",
      "             lw=2, alpha=0.6)\n",
      "    plt.plot(orders,einsum_res, \n",
      "             label=\"[einsum('i->', df[col].values) for col in range(0,n-1)]\", \n",
      "             lw=2, alpha=0.6)\n",
      "\n",
      "    plt.title('Pandas Column Sums', fontsize=20)\n",
      "    plt.xlim([min(orders), max(orders)])\n",
      "    plt.grid()\n",
      "\n",
      "    #plt.xscale('log')\n",
      "    plt.ticklabel_format(style='plain', axis='x')\n",
      "    plt.legend(loc='upper left', fontsize=14)\n",
      "    plt.xlabel('Number of columns', fontsize=16)\n",
      "    plt.ylabel('time in seconds', fontsize=16)\n",
      "    \n",
      "    plt.tight_layout()\n",
      "    plt.show()\n",
      "    \n",
      "plot_2()"
     ],
     "language": "python",
     "metadata": {},
     "outputs": [
      {
       "metadata": {},
       "output_type": "display_data",
       "png": "[encoded data removed]",
       "text": [
        "<matplotlib.figure.Figure at 0x109334240>"
       ]
      }
     ],
     "prompt_number": 37
    },
    {
     "cell_type": "markdown",
     "metadata": {},
     "source": [
      "<br>"
     ]
    }
   ],
   "metadata": {}
  }
 ]
}